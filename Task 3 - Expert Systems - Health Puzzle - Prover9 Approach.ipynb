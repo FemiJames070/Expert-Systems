{
 "cells": [
  {
   "cell_type": "markdown",
   "id": "de6e77a8-5c0f-48e6-b78e-0d41f5e19727",
   "metadata": {},
   "source": [
    "# Expert Systems: Health Puzzle - Proving Healthiness Based on Assumptions\n",
    "Our goal is to prove whether the person is healthy, based on their health-related behaviors and lifestyle **(Prover9 Approach (First-Order Logic))**"
   ]
  },
  {
   "cell_type": "markdown",
   "id": "5d7e39ed-97ef-458f-9074-72f619aaad0a",
   "metadata": {},
   "source": [
    "the assumptions change as follows:\n",
    "1. all x.(patient(x) -> follows_health_regimen(x)): Every patient follows a health regimen.\n",
    "2. all x.(follows_health_regimen(x) -> exercises_regularly(x)): If a person follows a health regimen, they also exercise regularly.\n",
    "3. all x.(exercises_regularly(x) -> (healthy(x) | good_lifestyle(x))): If a person exercises regularly, they are either healthy or have a good\n",
    "   lifestyle.\n",
    "4. all x.(good_lifestyle(x) -> healthy(x)): If a person has a good lifestyle, they are healthy."
   ]
  },
  {
   "cell_type": "markdown",
   "id": "7cbc5e16-e298-4766-abc8-199cd67111d2",
   "metadata": {},
   "source": [
    "## Prover9 Approach (First-Order Logic)\n",
    "This approach involves using Prover9, a first-order logic prover, to check if the assumptions can prove the goal."
   ]
  },
  {
   "cell_type": "code",
   "execution_count": 1,
   "id": "cde017d4-c5e8-4e24-a362-78c91e723116",
   "metadata": {},
   "outputs": [],
   "source": [
    "# Import Libraries\n",
    "from nltk import Prover9, Prover9Command\n",
    "from nltk.sem import Expression"
   ]
  },
  {
   "cell_type": "code",
   "execution_count": 2,
   "id": "715577b3-2c44-4ca5-8e6c-102adccff327",
   "metadata": {},
   "outputs": [],
   "source": [
    "# Function to parse first-order logic expressions\n",
    "read_expr = Expression.fromstring\n",
    "\n",
    "# Configure Prover9 within nltk\n",
    "p = Prover9()\n",
    "p._binary_location = r\"C:\\Program Files (x86)\\Prover9-Mace4\\bin-win32\""
   ]
  },
  {
   "cell_type": "code",
   "execution_count": 3,
   "id": "0e9c2efb-93ce-4dd3-a7d2-a3beac9f2106",
   "metadata": {},
   "outputs": [],
   "source": [
    "# Define the assumptions based on user input and the puzzle's health-related rules\n",
    "def get_health_assumptions():\n",
    "    assumptions = []\n",
    "\n",
    "    # User input to create logical assumptions\n",
    "    follows_health_regimen = input(\"Does the person follow a health regimen? (yes/no): \").lower() == 'yes'\n",
    "    exercises_regularly = input(\"Does the person exercise regularly? (yes/no): \").lower() == 'yes'\n",
    "    bad_lifestyle = input(\"Does the person have a bad lifestyle? (yes/no): \").lower() == 'yes'\n",
    "\n",
    "    # General health rules\n",
    "    assumptions.append(read_expr(\"all x. (patient(x) -> follows_health_regimen(x))\"))  # Patients follow health regimens\n",
    "    assumptions.append(read_expr(\"all x. (follows_health_regimen(x) -> exercises_regularly(x))\"))  # Following regimen implies exercise\n",
    "    assumptions.append(read_expr(\"all x. (exercises_regularly(x) -> (healthy(x) | good_lifestyle(x)))\"))  # Exercise implies health or good lifestyle\n",
    "    assumptions.append(read_expr(\"all x. (good_lifestyle(x) -> healthy(x))\"))  # Good lifestyle implies health\n",
    "    assumptions.append(read_expr(\"all x. (bad_lifestyle(x) -> -healthy(x))\"))  # Bad lifestyle implies unhealthy\n",
    "\n",
    "    # Explicit facts based on user input\n",
    "    if follows_health_regimen:\n",
    "        assumptions.append(read_expr(\"follows_health_regimen(person)\"))\n",
    "    else:\n",
    "        assumptions.append(read_expr(\"-follows_health_regimen(person)\"))\n",
    "\n",
    "    if exercises_regularly:\n",
    "        assumptions.append(read_expr(\"exercises_regularly(person)\"))\n",
    "    else:\n",
    "        assumptions.append(read_expr(\"-exercises_regularly(person)\"))\n",
    "\n",
    "    if bad_lifestyle:\n",
    "        assumptions.append(read_expr(\"bad_lifestyle(person)\"))\n",
    "    else:\n",
    "        assumptions.append(read_expr(\"-bad_lifestyle(person)\"))\n",
    "\n",
    "    return assumptions\n",
    "\n",
    "# Define the goal to prove if the person is healthy\n",
    "def set_goal():\n",
    "    return read_expr(\"healthy(person)\")"
   ]
  },
  {
   "cell_type": "code",
   "execution_count": 4,
   "id": "88de6ca8-a013-4619-b0ec-a29ca1daed08",
   "metadata": {},
   "outputs": [],
   "source": [
    "# Use Prover9 to attempt to prove the goal based on user input assumptions\n",
    "def prove_health_goal():\n",
    "    assumptions = get_health_assumptions()\n",
    "    goal = set_goal()\n",
    "\n",
    "    # Initialize the prover with the assumptions and goal\n",
    "    prover = Prover9Command(goal=goal, assumptions=assumptions, prover=p)\n",
    "\n",
    "    # Print assumptions for user verification\n",
    "    print(\"\\nAssumptions based on your input:\")\n",
    "    for assumption in assumptions:\n",
    "        print(assumption)\n",
    "\n",
    "    # Attempt to prove the goal\n",
    "    is_proved = prover.prove()\n",
    "    if is_proved:\n",
    "        print(\"\\nIt can be proved. Here is the proof:\\n\")\n",
    "        print(prover.proof())\n",
    "    else:\n",
    "        print(\"\\nIt cannot be proved.\")"
   ]
  },
  {
   "cell_type": "code",
   "execution_count": 5,
   "id": "69addf66-bccd-4b81-ac93-29e9becaa8f9",
   "metadata": {},
   "outputs": [
    {
     "name": "stdout",
     "output_type": "stream",
     "text": [
      "Welcome to the Health Puzzle!\n",
      "\n"
     ]
    },
    {
     "name": "stdin",
     "output_type": "stream",
     "text": [
      "Does the person follow a health regimen? (yes/no):  No\n",
      "Does the person exercise regularly? (yes/no):  No\n",
      "Does the person have a bad lifestyle? (yes/no):  Yes\n"
     ]
    },
    {
     "name": "stdout",
     "output_type": "stream",
     "text": [
      "\n",
      "Assumptions based on your input:\n",
      "all x.(patient(x) -> follows_health_regimen(x))\n",
      "all x.(follows_health_regimen(x) -> exercises_regularly(x))\n",
      "all x.(exercises_regularly(x) -> (healthy(x) | good_lifestyle(x)))\n",
      "all x.(good_lifestyle(x) -> healthy(x))\n",
      "all x.(bad_lifestyle(x) -> -healthy(x))\n",
      "-follows_health_regimen(person)\n",
      "-exercises_regularly(person)\n",
      "bad_lifestyle(person)\n",
      "\n",
      "It cannot be proved.\n"
     ]
    }
   ],
   "source": [
    "# Start the health puzzle and prove the goal\n",
    "if __name__ == \"__main__\":\n",
    "    print(\"Welcome to the Health Puzzle!\\n\")\n",
    "    prove_health_goal()"
   ]
  },
  {
   "cell_type": "code",
   "execution_count": 6,
   "id": "69e7fd25-8f87-4bd5-9f52-693364e33bce",
   "metadata": {},
   "outputs": [
    {
     "name": "stdout",
     "output_type": "stream",
     "text": [
      "Welcome to the Health Puzzle!\n",
      "\n"
     ]
    },
    {
     "name": "stdin",
     "output_type": "stream",
     "text": [
      "Does the person follow a health regimen? (yes/no):  Yes\n",
      "Does the person exercise regularly? (yes/no):  Yes\n",
      "Does the person have a bad lifestyle? (yes/no):  No\n"
     ]
    },
    {
     "name": "stdout",
     "output_type": "stream",
     "text": [
      "\n",
      "Assumptions based on your input:\n",
      "all x.(patient(x) -> follows_health_regimen(x))\n",
      "all x.(follows_health_regimen(x) -> exercises_regularly(x))\n",
      "all x.(exercises_regularly(x) -> (healthy(x) | good_lifestyle(x)))\n",
      "all x.(good_lifestyle(x) -> healthy(x))\n",
      "all x.(bad_lifestyle(x) -> -healthy(x))\n",
      "follows_health_regimen(person)\n",
      "exercises_regularly(person)\n",
      "-bad_lifestyle(person)\n",
      "\n",
      "It can be proved. Here is the proof:\n",
      "\n",
      "============================== prooftrans ============================\n",
      "Prover9 (32) version Dec-2007, Dec 2007.\n",
      "Process 23532 was started by femij on FemiJames,\n",
      "Thu Jan  9 12:25:08 2025\n",
      "The command was \"/cygdrive/c/Program Files (x86)/Prover9-Mace4/bin-win32/prover9\".\n",
      "============================== end of head ===========================\n",
      "\n",
      "============================== end of input ==========================\n",
      "\n",
      "============================== PROOF =================================\n",
      "\n",
      "% -------- Comments from original proof --------\n",
      "% Proof 1 at 0.00 (+ 0.01) seconds.\n",
      "% Length of proof is 10.\n",
      "% Level of proof is 4.\n",
      "% Maximum clause weight is 2.\n",
      "% Given clauses 0.\n",
      "\n",
      "3 (all x (exercises_regularly(x) -> healthy(x) | good_lifestyle(x))).  [assumption].\n",
      "4 (all x (good_lifestyle(x) -> healthy(x))).  [assumption].\n",
      "6 healthy(person).  [goal].\n",
      "9 exercises_regularly(person).  [assumption].\n",
      "10 -exercises_regularly(x) | healthy(x) | good_lifestyle(x).  [clausify(3)].\n",
      "11 healthy(person) | good_lifestyle(person).  [resolve(9,a,10,a)].\n",
      "12 -good_lifestyle(x) | healthy(x).  [clausify(4)].\n",
      "13 -healthy(person).  [deny(6)].\n",
      "14 healthy(person) | healthy(person).  [resolve(11,b,12,a)].\n",
      "15 $F.  [copy(14),merge(b),unit_del(a,13)].\n",
      "\n",
      "============================== end of proof ==========================\n"
     ]
    }
   ],
   "source": [
    "# Start the health puzzle and prove the goal\n",
    "if __name__ == \"__main__\":\n",
    "    print(\"Welcome to the Health Puzzle!\\n\")\n",
    "    prove_health_goal()"
   ]
  }
 ],
 "metadata": {
  "kernelspec": {
   "display_name": "Python 3 (ipykernel)",
   "language": "python",
   "name": "python3"
  },
  "language_info": {
   "codemirror_mode": {
    "name": "ipython",
    "version": 3
   },
   "file_extension": ".py",
   "mimetype": "text/x-python",
   "name": "python",
   "nbconvert_exporter": "python",
   "pygments_lexer": "ipython3",
   "version": "3.11.7"
  }
 },
 "nbformat": 4,
 "nbformat_minor": 5
}
