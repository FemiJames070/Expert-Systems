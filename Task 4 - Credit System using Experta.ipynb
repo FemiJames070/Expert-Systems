{
 "cells": [
  {
   "cell_type": "code",
   "execution_count": null,
   "id": "00bdc4f1-8077-40f7-95cb-99e4888399d5",
   "metadata": {},
   "outputs": [],
   "source": []
  },
  {
   "cell_type": "code",
   "execution_count": null,
   "id": "09250093-75f1-4a20-a9bb-db8aaadfb212",
   "metadata": {},
   "outputs": [],
   "source": []
  },
  {
   "cell_type": "code",
   "execution_count": null,
   "id": "84b454c9-3488-459f-9b05-34cccd99014a",
   "metadata": {},
   "outputs": [],
   "source": []
  },
  {
   "cell_type": "code",
   "execution_count": null,
   "id": "daf1ea9b-85ed-41fc-b3e1-d665c5e829ca",
   "metadata": {},
   "outputs": [],
   "source": []
  },
  {
   "cell_type": "code",
   "execution_count": 11,
   "id": "7e73a62d-3c55-4845-a156-c475506105a2",
   "metadata": {},
   "outputs": [],
   "source": [
    "import ipywidgets as widgets\n",
    "from IPython.display import display\n",
    "from experta import KnowledgeEngine, Fact, Rule, DefFacts, P"
   ]
  },
  {
   "cell_type": "code",
   "execution_count": 15,
   "id": "84eaa235-c48d-4d90-9f36-037bddc8db80",
   "metadata": {},
   "outputs": [
    {
     "data": {
      "application/vnd.jupyter.widget-view+json": {
       "model_id": "49fdf7cf94b848e3a79cced3274b71a0",
       "version_major": 2,
       "version_minor": 0
      },
      "text/plain": [
       "IntText(value=0, description='Enter Age:')"
      ]
     },
     "metadata": {},
     "output_type": "display_data"
    },
    {
     "data": {
      "application/vnd.jupyter.widget-view+json": {
       "model_id": "916b9acc73ad4224b6626040e724a852",
       "version_major": 2,
       "version_minor": 0
      },
      "text/plain": [
       "FloatText(value=0.0, description='Enter Income:')"
      ]
     },
     "metadata": {},
     "output_type": "display_data"
    },
    {
     "data": {
      "application/vnd.jupyter.widget-view+json": {
       "model_id": "6c38b45a5b9147e18cce11ab7153b72d",
       "version_major": 2,
       "version_minor": 0
      },
      "text/plain": [
       "IntText(value=0, description='Enter Credit Score:')"
      ]
     },
     "metadata": {},
     "output_type": "display_data"
    },
    {
     "data": {
      "application/vnd.jupyter.widget-view+json": {
       "model_id": "b9bbab9d1ddf4554b1db06e31e0cc2ad",
       "version_major": 2,
       "version_minor": 0
      },
      "text/plain": [
       "Label(value='')"
      ]
     },
     "metadata": {},
     "output_type": "display_data"
    },
    {
     "data": {
      "application/vnd.jupyter.widget-view+json": {
       "model_id": "15192a29fc0c40e2955dd8d6b391db7f",
       "version_major": 2,
       "version_minor": 0
      },
      "text/plain": [
       "Button(description='Submit', style=ButtonStyle())"
      ]
     },
     "metadata": {},
     "output_type": "display_data"
    }
   ],
   "source": [
    "### Create interactive widgets\n",
    "age_widget = widgets.IntText(description=\"Enter Age:\")\n",
    "income_widget = widgets.FloatText(description=\"Enter Income:\")\n",
    "credit_score_widget = widgets.IntText(description=\"Enter Credit Score:\")\n",
    "\n",
    "# Create a label to display results\n",
    "result_label = widgets.Label(value=\"\")\n",
    "\n",
    "# Display widgets\n",
    "display(age_widget, income_widget, credit_score_widget, result_label)\n",
    "\n",
    "# Define the callback function that will trigger the rule-based system after the user inputs the values\n",
    "def on_button_click(b):\n",
    "    # Get values from widgets\n",
    "    age = age_widget.value\n",
    "    income = income_widget.value\n",
    "    credit_score = credit_score_widget.value\n",
    "    \n",
    "    # Define the rule-based system\n",
    "    class AccountType(KnowledgeEngine):\n",
    "        @DefFacts()\n",
    "        def _initial_facts(self):\n",
    "            yield Fact(action=\"account_type\")\n",
    "\n",
    "        # Rule for users under 18\n",
    "        @Rule(Fact(action='account_type'), Fact(age=P(lambda x: x < 18)))\n",
    "        def not_eligible(self):\n",
    "            result_label.value = \"You are not eligible for an account. You must be above 18.\"\n",
    "\n",
    "        # Rule for students (age 18-25, income < 20000)\n",
    "        @Rule(Fact(action='account_type'), Fact(age=P(lambda x: 25 >= x >= 18), income=P(lambda x: x < 20000)))\n",
    "        def student_account(self):\n",
    "            result_label.value = \"You are eligible for a student account with basic features.\"\n",
    "\n",
    "        # Rule for standard account (age 26-30, income >= 20000, credit_score >= 700)\n",
    "        @Rule(Fact(action='account_type'), Fact(age=P(lambda x: 30 >= x >= 26), income=P(lambda x: x >= 20000), credit_score=P(lambda x: x >= 700)))\n",
    "        def standard_account(self):\n",
    "            result_label.value = \"You are eligible for a standard account with additional features.\"\n",
    "\n",
    "        # Rule for premium account (age > 30, income >= 30000, credit_score >= 750)\n",
    "        @Rule(Fact(action='account_type'), Fact(age=P(lambda x: x > 30), income=P(lambda x: x >= 30000), credit_score=P(lambda x: x >= 750)))\n",
    "        def premium_account(self):\n",
    "            result_label.value = \"You are eligible for a premium account with full features.\"\n",
    "\n",
    "    # Initialize and run the rule engine\n",
    "    engine = AccountType()\n",
    "    engine.reset()  # Prepare the engine with initial facts\n",
    "    engine.declare(Fact(age=age, income=income, credit_score=credit_score))\n",
    "    engine.run()\n",
    "\n",
    "# Create a button to trigger the model after user input\n",
    "button = widgets.Button(description=\"Submit\")\n",
    "button.on_click(on_button_click)\n",
    "\n",
    "# Display the button\n",
    "display(button)"
   ]
  },
  {
   "cell_type": "code",
   "execution_count": null,
   "id": "28880573-901a-4a1e-8c8b-887e3e2a1526",
   "metadata": {},
   "outputs": [],
   "source": []
  },
  {
   "cell_type": "code",
   "execution_count": null,
   "id": "8d7adad8-7234-4f42-bc04-9bb5ec2f3a74",
   "metadata": {},
   "outputs": [],
   "source": []
  }
 ],
 "metadata": {
  "kernelspec": {
   "display_name": "Python 3 (ipykernel)",
   "language": "python",
   "name": "python3"
  },
  "language_info": {
   "codemirror_mode": {
    "name": "ipython",
    "version": 3
   },
   "file_extension": ".py",
   "mimetype": "text/x-python",
   "name": "python",
   "nbconvert_exporter": "python",
   "pygments_lexer": "ipython3",
   "version": "3.11.7"
  }
 },
 "nbformat": 4,
 "nbformat_minor": 5
}
