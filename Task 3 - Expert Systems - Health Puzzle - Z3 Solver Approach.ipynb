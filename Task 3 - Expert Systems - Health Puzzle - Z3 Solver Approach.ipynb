{
 "cells": [
  {
   "cell_type": "markdown",
   "id": "345097b3-fa0c-4909-9058-559cfbab42b6",
   "metadata": {},
   "source": [
    "# Expert Systems: Health Puzzle - Proving Healthiness Based on Assumptions\n",
    "Our goal is to prove whether the person is healthy, based on their health-related behaviors and lifestyle **(Z3 Solver Approach (SMT-based Proof))**"
   ]
  },
  {
   "cell_type": "markdown",
   "id": "df0d5a83-cbb4-4fa3-a5ef-29f3ef4af9b9",
   "metadata": {},
   "source": [
    "the assumptions change as follows:\n",
    "\n",
    "1. all x.(patient(x) -> follows_health_regimen(x)): Every patient follows a health regimen.\n",
    "2. all x.(follows_health_regimen(x) -> exercises_regularly(x)): If a person follows a health regimen, they also exercise regularly.\n",
    "3. all x.(exercises_regularly(x) -> (healthy(x) | good_lifestyle(x))): If a person exercises regularly, they are either healthy or have a good\n",
    "   lifestyle.\n",
    "5. all x.(good_lifestyle(x) -> healthy(x)): If a person has a good lifestyle, they are healthy."
   ]
  },
  {
   "cell_type": "markdown",
   "id": "478bac01-27d1-4f05-b929-8df8e296f2da",
   "metadata": {},
   "source": [
    "## Z3 Solver Approach (SMT-based Proof)\n",
    "The Z3 Solver approach handle assumptions and prove the goal using SMT (Satisfiability Modulo Theories)."
   ]
  },
  {
   "cell_type": "code",
   "execution_count": 1,
   "id": "cea90985-f9c8-47e9-897d-cf4260c09c59",
   "metadata": {},
   "outputs": [],
   "source": [
    "# Import Libraries\n",
    "from z3 import *"
   ]
  },
  {
   "cell_type": "code",
   "execution_count": 2,
   "id": "b138401d-39d1-4eab-b4cb-c2031a2f3ead",
   "metadata": {},
   "outputs": [],
   "source": [
    "# Define constants and predicates\n",
    "person = Const('person', BoolSort())\n",
    "healthy = Function('healthy', BoolSort(), BoolSort())\n",
    "patient = Function('patient', BoolSort(), BoolSort())\n",
    "follows_health_regimen = Function('follows_health_regimen', BoolSort(), BoolSort())\n",
    "exercises_regularly = Function('exercises_regularly', BoolSort(), BoolSort())\n",
    "good_lifestyle = Function('good_lifestyle', BoolSort(), BoolSort())\n",
    "bad_lifestyle = Function('bad_lifestyle', BoolSort(), BoolSort())\n",
    "\n",
    "# Create the solver\n",
    "solver = Solver()"
   ]
  },
  {
   "cell_type": "code",
   "execution_count": 3,
   "id": "9fc4ce5e-44e0-4302-9b1a-4eefcf3fc61e",
   "metadata": {},
   "outputs": [],
   "source": [
    "# Function to interact with the user and set up assumptions\n",
    "def get_health_assumptions():\n",
    "    follows_health_regimen_input = input(\"Does the person follow a health regimen? (yes/no): \").lower() == 'yes'\n",
    "    exercises_regularly_input = input(\"Does the person exercise regularly? (yes/no): \").lower() == 'yes'\n",
    "    bad_lifestyle_input = input(\"Does the person have a bad lifestyle? (yes/no): \").lower() == 'yes'\n",
    "\n",
    "    # Explicitly define the person's attributes based on input\n",
    "    if follows_health_regimen_input:\n",
    "        solver.add(follows_health_regimen(person))\n",
    "    else:\n",
    "        solver.add(Not(follows_health_regimen(person)))\n",
    "    \n",
    "    if exercises_regularly_input:\n",
    "        solver.add(exercises_regularly(person))\n",
    "    else:\n",
    "        solver.add(Not(exercises_regularly(person)))\n",
    "\n",
    "    if bad_lifestyle_input:\n",
    "        solver.add(bad_lifestyle(person))\n",
    "    else:\n",
    "        solver.add(Not(bad_lifestyle(person)))\n",
    "\n",
    "    # Add logical implications\n",
    "    solver.add(ForAll([person], Implies(follows_health_regimen(person), exercises_regularly(person))))  # Following regimen implies exercise\n",
    "    solver.add(ForAll([person], Implies(exercises_regularly(person), Or(healthy(person), good_lifestyle(person)))))  # Exercise implies health or good lifestyle\n",
    "    solver.add(ForAll([person], Implies(bad_lifestyle(person), Not(healthy(person)))))  # Bad lifestyle implies unhealthy\n",
    "    solver.add(ForAll([person], Implies(good_lifestyle(person), healthy(person))))  # Good lifestyle implies healthy"
   ]
  },
  {
   "cell_type": "code",
   "execution_count": 4,
   "id": "e8ecdde8-b519-431c-91c9-d64afb6dcaba",
   "metadata": {},
   "outputs": [],
   "source": [
    "# Solve the health goal\n",
    "def prove_health_goal():\n",
    "    get_health_assumptions()\n",
    "    \n",
    "    # Check if the goal (healthy) is provable\n",
    "    solver.push()\n",
    "    solver.add(Not(healthy(person)))  # Test if negation of health leads to inconsistency\n",
    "    \n",
    "    if solver.check() == unsat:\n",
    "        print(\"\\nThe person is healthy: The goal is provable based on your assumptions.\")\n",
    "    else:\n",
    "        print(\"\\nThe person is not healthy: The goal cannot be proven.\")\n",
    "    \n",
    "    solver.pop()"
   ]
  },
  {
   "cell_type": "code",
   "execution_count": 5,
   "id": "7fd15e4d-a724-4989-a01c-f54776d7c671",
   "metadata": {},
   "outputs": [
    {
     "name": "stdout",
     "output_type": "stream",
     "text": [
      "Welcome to the Health Puzzle!\n",
      "\n"
     ]
    },
    {
     "name": "stdin",
     "output_type": "stream",
     "text": [
      "Does the person follow a health regimen? (yes/no):  No\n",
      "Does the person exercise regularly? (yes/no):  No\n",
      "Does the person have a bad lifestyle? (yes/no):  Yes\n"
     ]
    },
    {
     "name": "stdout",
     "output_type": "stream",
     "text": [
      "\n",
      "The person is not healthy: The goal cannot be proven.\n"
     ]
    }
   ],
   "source": [
    "# Start the health puzzle and prove the goal\n",
    "if __name__ == \"__main__\":\n",
    "    print(\"Welcome to the Health Puzzle!\\n\")\n",
    "    prove_health_goal()"
   ]
  },
  {
   "cell_type": "code",
   "execution_count": 6,
   "id": "add1110c-c899-4899-bfa2-d789a6a72b8a",
   "metadata": {},
   "outputs": [
    {
     "name": "stdout",
     "output_type": "stream",
     "text": [
      "Welcome to the Health Puzzle!\n",
      "\n"
     ]
    },
    {
     "name": "stdin",
     "output_type": "stream",
     "text": [
      "Does the person follow a health regimen? (yes/no):  Yes\n",
      "Does the person exercise regularly? (yes/no):  Yes\n",
      "Does the person have a bad lifestyle? (yes/no):  No\n"
     ]
    },
    {
     "name": "stdout",
     "output_type": "stream",
     "text": [
      "\n",
      "The person is healthy: The goal is provable based on your assumptions.\n"
     ]
    }
   ],
   "source": [
    "# Start the health puzzle and prove the goal\n",
    "if __name__ == \"__main__\":\n",
    "    print(\"Welcome to the Health Puzzle!\\n\")\n",
    "    prove_health_goal()"
   ]
  }
 ],
 "metadata": {
  "kernelspec": {
   "display_name": "Python 3 (ipykernel)",
   "language": "python",
   "name": "python3"
  },
  "language_info": {
   "codemirror_mode": {
    "name": "ipython",
    "version": 3
   },
   "file_extension": ".py",
   "mimetype": "text/x-python",
   "name": "python",
   "nbconvert_exporter": "python",
   "pygments_lexer": "ipython3",
   "version": "3.11.7"
  }
 },
 "nbformat": 4,
 "nbformat_minor": 5
}
